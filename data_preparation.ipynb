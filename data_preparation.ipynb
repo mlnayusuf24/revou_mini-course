{
  "nbformat": 4,
  "nbformat_minor": 0,
  "metadata": {
    "colab": {
      "provenance": [],
      "authorship_tag": "ABX9TyPwdnzREUN+juhGlgcnYA4R",
      "include_colab_link": true
    },
    "kernelspec": {
      "name": "python3",
      "display_name": "Python 3"
    },
    "language_info": {
      "name": "python"
    }
  },
  "cells": [
    {
      "cell_type": "markdown",
      "metadata": {
        "id": "view-in-github",
        "colab_type": "text"
      },
      "source": [
        "<a href=\"https://colab.research.google.com/github/mlnayusuf24/revou_mini-course/blob/main/data_preparation.ipynb\" target=\"_parent\"><img src=\"https://colab.research.google.com/assets/colab-badge.svg\" alt=\"Open In Colab\"/></a>"
      ]
    },
    {
      "cell_type": "code",
      "execution_count": null,
      "metadata": {
        "colab": {
          "base_uri": "https://localhost:8080/"
        },
        "id": "ijmUhbKysCvq",
        "outputId": "cf36f54c-01b5-4115-ae6b-b7ab068ab843"
      },
      "outputs": [
        {
          "output_type": "stream",
          "name": "stdout",
          "text": [
            "Mounted at /content/drive\n"
          ]
        }
      ],
      "source": [
        "from google.colab import drive\n",
        "drive.mount('/content/drive')"
      ]
    },
    {
      "cell_type": "markdown",
      "source": [
        "## **Import Library**"
      ],
      "metadata": {
        "id": "LFJ4rZWivDNR"
      }
    },
    {
      "cell_type": "code",
      "source": [
        "import numpy as np\n",
        "import pandas as pd\n",
        "import matplotlib.pyplot as plt\n",
        "import seaborn as sns"
      ],
      "metadata": {
        "id": "sq7vdiQ1tzeC"
      },
      "execution_count": null,
      "outputs": []
    },
    {
      "cell_type": "markdown",
      "source": [
        "## **Prepare the Dataset**"
      ],
      "metadata": {
        "id": "U-wgFYrOvnkF"
      }
    },
    {
      "cell_type": "markdown",
      "source": [
        "**Read the csv file**"
      ],
      "metadata": {
        "id": "gq6VZFgIv0vN"
      }
    },
    {
      "cell_type": "code",
      "source": [
        "path = '/content/drive/MyDrive/Dataset/amazon_prime_titles.csv'\n",
        "df = pd.read_csv(path)\n",
        "df.head()"
      ],
      "metadata": {
        "colab": {
          "base_uri": "https://localhost:8080/",
          "height": 389
        },
        "id": "X-y0GTKDuBMG",
        "outputId": "c76f6c09-ab74-47bd-d369-e280db70ba02"
      },
      "execution_count": null,
      "outputs": [
        {
          "output_type": "execute_result",
          "data": {
            "text/plain": [
              "  show_id   type                 title        director  \\\n",
              "0      s1  Movie   The Grand Seduction    Don McKellar   \n",
              "1      s2  Movie  Take Care Good Night    Girish Joshi   \n",
              "2      s3  Movie  Secrets of Deception     Josh Webber   \n",
              "3      s4  Movie    Pink: Staying True  Sonia Anderson   \n",
              "4      s5  Movie         Monster Maker    Giles Foster   \n",
              "\n",
              "                                                cast         country  \\\n",
              "0     Brendan Gleeson, Taylor Kitsch, Gordon Pinsent          Canada   \n",
              "1   Mahesh Manjrekar, Abhay Mahajan, Sachin Khedekar           India   \n",
              "2  Tom Sizemore, Lorenzo Lamas, Robert LaSardo, R...   United States   \n",
              "3  Interviews with: Pink, Adele, Beyoncé, Britney...   United States   \n",
              "4  Harry Dean Stanton, Kieran O'Brien, George Cos...  United Kingdom   \n",
              "\n",
              "       date_added  release_year rating duration                listed_in  \\\n",
              "0  March 30, 2021          2014    NaN  113 min            Comedy, Drama   \n",
              "1  March 30, 2021          2018    13+  110 min     Drama, International   \n",
              "2  March 30, 2021          2017    NaN   74 min  Action, Drama, Suspense   \n",
              "3  March 30, 2021          2014    NaN   69 min              Documentary   \n",
              "4  March 30, 2021          1989    NaN   45 min           Drama, Fantasy   \n",
              "\n",
              "                                         description  \n",
              "0  A small fishing village must procure a local d...  \n",
              "1  A Metro Family decides to fight a Cyber Crimin...  \n",
              "2  After a man discovers his wife is cheating on ...  \n",
              "3  Pink breaks the mold once again, bringing her ...  \n",
              "4  Teenage Matt Banting wants to work with a famo...  "
            ],
            "text/html": [
              "\n",
              "  <div id=\"df-f74adff5-65ec-4295-9a6e-4dfbb07f4350\">\n",
              "    <div class=\"colab-df-container\">\n",
              "      <div>\n",
              "<style scoped>\n",
              "    .dataframe tbody tr th:only-of-type {\n",
              "        vertical-align: middle;\n",
              "    }\n",
              "\n",
              "    .dataframe tbody tr th {\n",
              "        vertical-align: top;\n",
              "    }\n",
              "\n",
              "    .dataframe thead th {\n",
              "        text-align: right;\n",
              "    }\n",
              "</style>\n",
              "<table border=\"1\" class=\"dataframe\">\n",
              "  <thead>\n",
              "    <tr style=\"text-align: right;\">\n",
              "      <th></th>\n",
              "      <th>show_id</th>\n",
              "      <th>type</th>\n",
              "      <th>title</th>\n",
              "      <th>director</th>\n",
              "      <th>cast</th>\n",
              "      <th>country</th>\n",
              "      <th>date_added</th>\n",
              "      <th>release_year</th>\n",
              "      <th>rating</th>\n",
              "      <th>duration</th>\n",
              "      <th>listed_in</th>\n",
              "      <th>description</th>\n",
              "    </tr>\n",
              "  </thead>\n",
              "  <tbody>\n",
              "    <tr>\n",
              "      <th>0</th>\n",
              "      <td>s1</td>\n",
              "      <td>Movie</td>\n",
              "      <td>The Grand Seduction</td>\n",
              "      <td>Don McKellar</td>\n",
              "      <td>Brendan Gleeson, Taylor Kitsch, Gordon Pinsent</td>\n",
              "      <td>Canada</td>\n",
              "      <td>March 30, 2021</td>\n",
              "      <td>2014</td>\n",
              "      <td>NaN</td>\n",
              "      <td>113 min</td>\n",
              "      <td>Comedy, Drama</td>\n",
              "      <td>A small fishing village must procure a local d...</td>\n",
              "    </tr>\n",
              "    <tr>\n",
              "      <th>1</th>\n",
              "      <td>s2</td>\n",
              "      <td>Movie</td>\n",
              "      <td>Take Care Good Night</td>\n",
              "      <td>Girish Joshi</td>\n",
              "      <td>Mahesh Manjrekar, Abhay Mahajan, Sachin Khedekar</td>\n",
              "      <td>India</td>\n",
              "      <td>March 30, 2021</td>\n",
              "      <td>2018</td>\n",
              "      <td>13+</td>\n",
              "      <td>110 min</td>\n",
              "      <td>Drama, International</td>\n",
              "      <td>A Metro Family decides to fight a Cyber Crimin...</td>\n",
              "    </tr>\n",
              "    <tr>\n",
              "      <th>2</th>\n",
              "      <td>s3</td>\n",
              "      <td>Movie</td>\n",
              "      <td>Secrets of Deception</td>\n",
              "      <td>Josh Webber</td>\n",
              "      <td>Tom Sizemore, Lorenzo Lamas, Robert LaSardo, R...</td>\n",
              "      <td>United States</td>\n",
              "      <td>March 30, 2021</td>\n",
              "      <td>2017</td>\n",
              "      <td>NaN</td>\n",
              "      <td>74 min</td>\n",
              "      <td>Action, Drama, Suspense</td>\n",
              "      <td>After a man discovers his wife is cheating on ...</td>\n",
              "    </tr>\n",
              "    <tr>\n",
              "      <th>3</th>\n",
              "      <td>s4</td>\n",
              "      <td>Movie</td>\n",
              "      <td>Pink: Staying True</td>\n",
              "      <td>Sonia Anderson</td>\n",
              "      <td>Interviews with: Pink, Adele, Beyoncé, Britney...</td>\n",
              "      <td>United States</td>\n",
              "      <td>March 30, 2021</td>\n",
              "      <td>2014</td>\n",
              "      <td>NaN</td>\n",
              "      <td>69 min</td>\n",
              "      <td>Documentary</td>\n",
              "      <td>Pink breaks the mold once again, bringing her ...</td>\n",
              "    </tr>\n",
              "    <tr>\n",
              "      <th>4</th>\n",
              "      <td>s5</td>\n",
              "      <td>Movie</td>\n",
              "      <td>Monster Maker</td>\n",
              "      <td>Giles Foster</td>\n",
              "      <td>Harry Dean Stanton, Kieran O'Brien, George Cos...</td>\n",
              "      <td>United Kingdom</td>\n",
              "      <td>March 30, 2021</td>\n",
              "      <td>1989</td>\n",
              "      <td>NaN</td>\n",
              "      <td>45 min</td>\n",
              "      <td>Drama, Fantasy</td>\n",
              "      <td>Teenage Matt Banting wants to work with a famo...</td>\n",
              "    </tr>\n",
              "  </tbody>\n",
              "</table>\n",
              "</div>\n",
              "      <button class=\"colab-df-convert\" onclick=\"convertToInteractive('df-f74adff5-65ec-4295-9a6e-4dfbb07f4350')\"\n",
              "              title=\"Convert this dataframe to an interactive table.\"\n",
              "              style=\"display:none;\">\n",
              "        \n",
              "  <svg xmlns=\"http://www.w3.org/2000/svg\" height=\"24px\"viewBox=\"0 0 24 24\"\n",
              "       width=\"24px\">\n",
              "    <path d=\"M0 0h24v24H0V0z\" fill=\"none\"/>\n",
              "    <path d=\"M18.56 5.44l.94 2.06.94-2.06 2.06-.94-2.06-.94-.94-2.06-.94 2.06-2.06.94zm-11 1L8.5 8.5l.94-2.06 2.06-.94-2.06-.94L8.5 2.5l-.94 2.06-2.06.94zm10 10l.94 2.06.94-2.06 2.06-.94-2.06-.94-.94-2.06-.94 2.06-2.06.94z\"/><path d=\"M17.41 7.96l-1.37-1.37c-.4-.4-.92-.59-1.43-.59-.52 0-1.04.2-1.43.59L10.3 9.45l-7.72 7.72c-.78.78-.78 2.05 0 2.83L4 21.41c.39.39.9.59 1.41.59.51 0 1.02-.2 1.41-.59l7.78-7.78 2.81-2.81c.8-.78.8-2.07 0-2.86zM5.41 20L4 18.59l7.72-7.72 1.47 1.35L5.41 20z\"/>\n",
              "  </svg>\n",
              "      </button>\n",
              "      \n",
              "  <style>\n",
              "    .colab-df-container {\n",
              "      display:flex;\n",
              "      flex-wrap:wrap;\n",
              "      gap: 12px;\n",
              "    }\n",
              "\n",
              "    .colab-df-convert {\n",
              "      background-color: #E8F0FE;\n",
              "      border: none;\n",
              "      border-radius: 50%;\n",
              "      cursor: pointer;\n",
              "      display: none;\n",
              "      fill: #1967D2;\n",
              "      height: 32px;\n",
              "      padding: 0 0 0 0;\n",
              "      width: 32px;\n",
              "    }\n",
              "\n",
              "    .colab-df-convert:hover {\n",
              "      background-color: #E2EBFA;\n",
              "      box-shadow: 0px 1px 2px rgba(60, 64, 67, 0.3), 0px 1px 3px 1px rgba(60, 64, 67, 0.15);\n",
              "      fill: #174EA6;\n",
              "    }\n",
              "\n",
              "    [theme=dark] .colab-df-convert {\n",
              "      background-color: #3B4455;\n",
              "      fill: #D2E3FC;\n",
              "    }\n",
              "\n",
              "    [theme=dark] .colab-df-convert:hover {\n",
              "      background-color: #434B5C;\n",
              "      box-shadow: 0px 1px 3px 1px rgba(0, 0, 0, 0.15);\n",
              "      filter: drop-shadow(0px 1px 2px rgba(0, 0, 0, 0.3));\n",
              "      fill: #FFFFFF;\n",
              "    }\n",
              "  </style>\n",
              "\n",
              "      <script>\n",
              "        const buttonEl =\n",
              "          document.querySelector('#df-f74adff5-65ec-4295-9a6e-4dfbb07f4350 button.colab-df-convert');\n",
              "        buttonEl.style.display =\n",
              "          google.colab.kernel.accessAllowed ? 'block' : 'none';\n",
              "\n",
              "        async function convertToInteractive(key) {\n",
              "          const element = document.querySelector('#df-f74adff5-65ec-4295-9a6e-4dfbb07f4350');\n",
              "          const dataTable =\n",
              "            await google.colab.kernel.invokeFunction('convertToInteractive',\n",
              "                                                     [key], {});\n",
              "          if (!dataTable) return;\n",
              "\n",
              "          const docLinkHtml = 'Like what you see? Visit the ' +\n",
              "            '<a target=\"_blank\" href=https://colab.research.google.com/notebooks/data_table.ipynb>data table notebook</a>'\n",
              "            + ' to learn more about interactive tables.';\n",
              "          element.innerHTML = '';\n",
              "          dataTable['output_type'] = 'display_data';\n",
              "          await google.colab.output.renderOutput(dataTable, element);\n",
              "          const docLink = document.createElement('div');\n",
              "          docLink.innerHTML = docLinkHtml;\n",
              "          element.appendChild(docLink);\n",
              "        }\n",
              "      </script>\n",
              "    </div>\n",
              "  </div>\n",
              "  "
            ]
          },
          "metadata": {},
          "execution_count": 3
        }
      ]
    },
    {
      "cell_type": "markdown",
      "source": [
        "**Add new features in dataset**"
      ],
      "metadata": {
        "id": "S0F0y7klzSWE"
      }
    },
    {
      "cell_type": "markdown",
      "source": [
        "Rating Guide:\n",
        "https://www.primevideo.com/help/ref=atv_hp_nd_cnt?nodeId=GFGQU3WYEG6FSJFJ"
      ],
      "metadata": {
        "id": "TodZ6gmE0LJD"
      }
    },
    {
      "cell_type": "code",
      "source": [
        "df[\"date_added\"] = pd.to_datetime(df['date_added'])\n",
        "df['year_added'] = df['date_added'].dt.year\n",
        "df['month_added'] = df['date_added'].dt.month\n",
        "\n",
        "df['season_count'] = df.apply(lambda x : x['duration'].split(\" \")[0] if \"Season\" in x['duration'] else \"\", axis = 1)\n",
        "df['duration'] = df.apply(lambda x : x['duration'].split(\" \")[0] if \"Season\" not in x['duration'] else \"\", axis = 1)\n",
        "\n",
        "adult = ['18+','R','NR','NC-17','UNRATED','TV-MA','NOT_RATE','AGES_18_','TV-NR']\n",
        "df['adult'] = df.apply(lambda x: \"Adult\" if x['rating'] in adult else \"Non-adult\", axis = 1)\n",
        "df.head()"
      ],
      "metadata": {
        "colab": {
          "base_uri": "https://localhost:8080/",
          "height": 722
        },
        "id": "kkEvGI7WzV1S",
        "outputId": "925d7420-4045-474f-9514-451e9f5c37e3"
      },
      "execution_count": null,
      "outputs": [
        {
          "output_type": "execute_result",
          "data": {
            "text/plain": [
              "  show_id   type                 title        director  \\\n",
              "0      s1  Movie   The Grand Seduction    Don McKellar   \n",
              "1      s2  Movie  Take Care Good Night    Girish Joshi   \n",
              "2      s3  Movie  Secrets of Deception     Josh Webber   \n",
              "3      s4  Movie    Pink: Staying True  Sonia Anderson   \n",
              "4      s5  Movie         Monster Maker    Giles Foster   \n",
              "\n",
              "                                                cast         country  \\\n",
              "0     Brendan Gleeson, Taylor Kitsch, Gordon Pinsent          Canada   \n",
              "1   Mahesh Manjrekar, Abhay Mahajan, Sachin Khedekar           India   \n",
              "2  Tom Sizemore, Lorenzo Lamas, Robert LaSardo, R...   United States   \n",
              "3  Interviews with: Pink, Adele, Beyoncé, Britney...   United States   \n",
              "4  Harry Dean Stanton, Kieran O'Brien, George Cos...  United Kingdom   \n",
              "\n",
              "  date_added  release_year rating duration                listed_in  \\\n",
              "0 2021-03-30          2014    NaN      113            Comedy, Drama   \n",
              "1 2021-03-30          2018    13+      110     Drama, International   \n",
              "2 2021-03-30          2017    NaN       74  Action, Drama, Suspense   \n",
              "3 2021-03-30          2014    NaN       69              Documentary   \n",
              "4 2021-03-30          1989    NaN       45           Drama, Fantasy   \n",
              "\n",
              "                                         description  year_added  month_added  \\\n",
              "0  A small fishing village must procure a local d...      2021.0          3.0   \n",
              "1  A Metro Family decides to fight a Cyber Crimin...      2021.0          3.0   \n",
              "2  After a man discovers his wife is cheating on ...      2021.0          3.0   \n",
              "3  Pink breaks the mold once again, bringing her ...      2021.0          3.0   \n",
              "4  Teenage Matt Banting wants to work with a famo...      2021.0          3.0   \n",
              "\n",
              "  season_count      adult  \n",
              "0               Non-adult  \n",
              "1               Non-adult  \n",
              "2               Non-adult  \n",
              "3               Non-adult  \n",
              "4               Non-adult  "
            ],
            "text/html": [
              "\n",
              "  <div id=\"df-4e27ae02-e8e1-4dc9-98e9-1335c69b9c4e\">\n",
              "    <div class=\"colab-df-container\">\n",
              "      <div>\n",
              "<style scoped>\n",
              "    .dataframe tbody tr th:only-of-type {\n",
              "        vertical-align: middle;\n",
              "    }\n",
              "\n",
              "    .dataframe tbody tr th {\n",
              "        vertical-align: top;\n",
              "    }\n",
              "\n",
              "    .dataframe thead th {\n",
              "        text-align: right;\n",
              "    }\n",
              "</style>\n",
              "<table border=\"1\" class=\"dataframe\">\n",
              "  <thead>\n",
              "    <tr style=\"text-align: right;\">\n",
              "      <th></th>\n",
              "      <th>show_id</th>\n",
              "      <th>type</th>\n",
              "      <th>title</th>\n",
              "      <th>director</th>\n",
              "      <th>cast</th>\n",
              "      <th>country</th>\n",
              "      <th>date_added</th>\n",
              "      <th>release_year</th>\n",
              "      <th>rating</th>\n",
              "      <th>duration</th>\n",
              "      <th>listed_in</th>\n",
              "      <th>description</th>\n",
              "      <th>year_added</th>\n",
              "      <th>month_added</th>\n",
              "      <th>season_count</th>\n",
              "      <th>adult</th>\n",
              "    </tr>\n",
              "  </thead>\n",
              "  <tbody>\n",
              "    <tr>\n",
              "      <th>0</th>\n",
              "      <td>s1</td>\n",
              "      <td>Movie</td>\n",
              "      <td>The Grand Seduction</td>\n",
              "      <td>Don McKellar</td>\n",
              "      <td>Brendan Gleeson, Taylor Kitsch, Gordon Pinsent</td>\n",
              "      <td>Canada</td>\n",
              "      <td>2021-03-30</td>\n",
              "      <td>2014</td>\n",
              "      <td>NaN</td>\n",
              "      <td>113</td>\n",
              "      <td>Comedy, Drama</td>\n",
              "      <td>A small fishing village must procure a local d...</td>\n",
              "      <td>2021.0</td>\n",
              "      <td>3.0</td>\n",
              "      <td></td>\n",
              "      <td>Non-adult</td>\n",
              "    </tr>\n",
              "    <tr>\n",
              "      <th>1</th>\n",
              "      <td>s2</td>\n",
              "      <td>Movie</td>\n",
              "      <td>Take Care Good Night</td>\n",
              "      <td>Girish Joshi</td>\n",
              "      <td>Mahesh Manjrekar, Abhay Mahajan, Sachin Khedekar</td>\n",
              "      <td>India</td>\n",
              "      <td>2021-03-30</td>\n",
              "      <td>2018</td>\n",
              "      <td>13+</td>\n",
              "      <td>110</td>\n",
              "      <td>Drama, International</td>\n",
              "      <td>A Metro Family decides to fight a Cyber Crimin...</td>\n",
              "      <td>2021.0</td>\n",
              "      <td>3.0</td>\n",
              "      <td></td>\n",
              "      <td>Non-adult</td>\n",
              "    </tr>\n",
              "    <tr>\n",
              "      <th>2</th>\n",
              "      <td>s3</td>\n",
              "      <td>Movie</td>\n",
              "      <td>Secrets of Deception</td>\n",
              "      <td>Josh Webber</td>\n",
              "      <td>Tom Sizemore, Lorenzo Lamas, Robert LaSardo, R...</td>\n",
              "      <td>United States</td>\n",
              "      <td>2021-03-30</td>\n",
              "      <td>2017</td>\n",
              "      <td>NaN</td>\n",
              "      <td>74</td>\n",
              "      <td>Action, Drama, Suspense</td>\n",
              "      <td>After a man discovers his wife is cheating on ...</td>\n",
              "      <td>2021.0</td>\n",
              "      <td>3.0</td>\n",
              "      <td></td>\n",
              "      <td>Non-adult</td>\n",
              "    </tr>\n",
              "    <tr>\n",
              "      <th>3</th>\n",
              "      <td>s4</td>\n",
              "      <td>Movie</td>\n",
              "      <td>Pink: Staying True</td>\n",
              "      <td>Sonia Anderson</td>\n",
              "      <td>Interviews with: Pink, Adele, Beyoncé, Britney...</td>\n",
              "      <td>United States</td>\n",
              "      <td>2021-03-30</td>\n",
              "      <td>2014</td>\n",
              "      <td>NaN</td>\n",
              "      <td>69</td>\n",
              "      <td>Documentary</td>\n",
              "      <td>Pink breaks the mold once again, bringing her ...</td>\n",
              "      <td>2021.0</td>\n",
              "      <td>3.0</td>\n",
              "      <td></td>\n",
              "      <td>Non-adult</td>\n",
              "    </tr>\n",
              "    <tr>\n",
              "      <th>4</th>\n",
              "      <td>s5</td>\n",
              "      <td>Movie</td>\n",
              "      <td>Monster Maker</td>\n",
              "      <td>Giles Foster</td>\n",
              "      <td>Harry Dean Stanton, Kieran O'Brien, George Cos...</td>\n",
              "      <td>United Kingdom</td>\n",
              "      <td>2021-03-30</td>\n",
              "      <td>1989</td>\n",
              "      <td>NaN</td>\n",
              "      <td>45</td>\n",
              "      <td>Drama, Fantasy</td>\n",
              "      <td>Teenage Matt Banting wants to work with a famo...</td>\n",
              "      <td>2021.0</td>\n",
              "      <td>3.0</td>\n",
              "      <td></td>\n",
              "      <td>Non-adult</td>\n",
              "    </tr>\n",
              "  </tbody>\n",
              "</table>\n",
              "</div>\n",
              "      <button class=\"colab-df-convert\" onclick=\"convertToInteractive('df-4e27ae02-e8e1-4dc9-98e9-1335c69b9c4e')\"\n",
              "              title=\"Convert this dataframe to an interactive table.\"\n",
              "              style=\"display:none;\">\n",
              "        \n",
              "  <svg xmlns=\"http://www.w3.org/2000/svg\" height=\"24px\"viewBox=\"0 0 24 24\"\n",
              "       width=\"24px\">\n",
              "    <path d=\"M0 0h24v24H0V0z\" fill=\"none\"/>\n",
              "    <path d=\"M18.56 5.44l.94 2.06.94-2.06 2.06-.94-2.06-.94-.94-2.06-.94 2.06-2.06.94zm-11 1L8.5 8.5l.94-2.06 2.06-.94-2.06-.94L8.5 2.5l-.94 2.06-2.06.94zm10 10l.94 2.06.94-2.06 2.06-.94-2.06-.94-.94-2.06-.94 2.06-2.06.94z\"/><path d=\"M17.41 7.96l-1.37-1.37c-.4-.4-.92-.59-1.43-.59-.52 0-1.04.2-1.43.59L10.3 9.45l-7.72 7.72c-.78.78-.78 2.05 0 2.83L4 21.41c.39.39.9.59 1.41.59.51 0 1.02-.2 1.41-.59l7.78-7.78 2.81-2.81c.8-.78.8-2.07 0-2.86zM5.41 20L4 18.59l7.72-7.72 1.47 1.35L5.41 20z\"/>\n",
              "  </svg>\n",
              "      </button>\n",
              "      \n",
              "  <style>\n",
              "    .colab-df-container {\n",
              "      display:flex;\n",
              "      flex-wrap:wrap;\n",
              "      gap: 12px;\n",
              "    }\n",
              "\n",
              "    .colab-df-convert {\n",
              "      background-color: #E8F0FE;\n",
              "      border: none;\n",
              "      border-radius: 50%;\n",
              "      cursor: pointer;\n",
              "      display: none;\n",
              "      fill: #1967D2;\n",
              "      height: 32px;\n",
              "      padding: 0 0 0 0;\n",
              "      width: 32px;\n",
              "    }\n",
              "\n",
              "    .colab-df-convert:hover {\n",
              "      background-color: #E2EBFA;\n",
              "      box-shadow: 0px 1px 2px rgba(60, 64, 67, 0.3), 0px 1px 3px 1px rgba(60, 64, 67, 0.15);\n",
              "      fill: #174EA6;\n",
              "    }\n",
              "\n",
              "    [theme=dark] .colab-df-convert {\n",
              "      background-color: #3B4455;\n",
              "      fill: #D2E3FC;\n",
              "    }\n",
              "\n",
              "    [theme=dark] .colab-df-convert:hover {\n",
              "      background-color: #434B5C;\n",
              "      box-shadow: 0px 1px 3px 1px rgba(0, 0, 0, 0.15);\n",
              "      filter: drop-shadow(0px 1px 2px rgba(0, 0, 0, 0.3));\n",
              "      fill: #FFFFFF;\n",
              "    }\n",
              "  </style>\n",
              "\n",
              "      <script>\n",
              "        const buttonEl =\n",
              "          document.querySelector('#df-4e27ae02-e8e1-4dc9-98e9-1335c69b9c4e button.colab-df-convert');\n",
              "        buttonEl.style.display =\n",
              "          google.colab.kernel.accessAllowed ? 'block' : 'none';\n",
              "\n",
              "        async function convertToInteractive(key) {\n",
              "          const element = document.querySelector('#df-4e27ae02-e8e1-4dc9-98e9-1335c69b9c4e');\n",
              "          const dataTable =\n",
              "            await google.colab.kernel.invokeFunction('convertToInteractive',\n",
              "                                                     [key], {});\n",
              "          if (!dataTable) return;\n",
              "\n",
              "          const docLinkHtml = 'Like what you see? Visit the ' +\n",
              "            '<a target=\"_blank\" href=https://colab.research.google.com/notebooks/data_table.ipynb>data table notebook</a>'\n",
              "            + ' to learn more about interactive tables.';\n",
              "          element.innerHTML = '';\n",
              "          dataTable['output_type'] = 'display_data';\n",
              "          await google.colab.output.renderOutput(dataTable, element);\n",
              "          const docLink = document.createElement('div');\n",
              "          docLink.innerHTML = docLinkHtml;\n",
              "          element.appendChild(docLink);\n",
              "        }\n",
              "      </script>\n",
              "    </div>\n",
              "  </div>\n",
              "  "
            ]
          },
          "metadata": {},
          "execution_count": 4
        }
      ]
    },
    {
      "cell_type": "code",
      "source": [
        "df.to_csv('/content/drive/MyDrive/Dataset/amazon_prime_clean.csv')"
      ],
      "metadata": {
        "id": "THALDQDyEvZ2"
      },
      "execution_count": null,
      "outputs": []
    },
    {
      "cell_type": "markdown",
      "source": [
        "**What are the top Genre?**"
      ],
      "metadata": {
        "id": "kujLpXL79Ega"
      }
    },
    {
      "cell_type": "code",
      "source": [
        "tv_show = df[df['type'] == 'TV Show']\n",
        "movie = df[df['type'] == 'Movie']"
      ],
      "metadata": {
        "id": "Sz7mKiSdHAZg"
      },
      "execution_count": null,
      "outputs": []
    },
    {
      "cell_type": "code",
      "source": [
        "from collections import Counter\n",
        "# TV Shows\n",
        "categories1 = \", \".join(tv_show['listed_in']).split(\", \")\n",
        "counter_list1 = Counter(categories1).most_common()[::-1]\n",
        "labels1 = [_[0] for _ in counter_list1][::-1]\n",
        "values1 = [_[1] for _ in counter_list1][::-1]\n",
        "\n",
        "# Movies\n",
        "categories2 = \", \".join(movie['listed_in']).split(\", \")\n",
        "counter_list2 = Counter(categories2).most_common()[::-1]\n",
        "labels2 = [_[0] for _ in counter_list2][::-1]\n",
        "values2 = [_[1] for _ in counter_list2][::-1]\n",
        "\n",
        "# Create Dataframe\n",
        "genre1 = pd.DataFrame(values1, labels1).reset_index()\n",
        "genre1.columns = ['Genre','TV Show']\n",
        "genre2 = pd.DataFrame(values2, labels2).reset_index()\n",
        "genre2.columns = ['Genre','Movie']\n",
        "\n",
        "# Merge Dataframe\n",
        "genre = genre1.merge(genre2, on='Genre', how = 'outer')\n",
        "genre['Movie'] = genre['Movie'].fillna(0)\n",
        "genre['Total'] = genre['TV Show'] + genre['Movie']"
      ],
      "metadata": {
        "id": "UCGKr0LyHQF4"
      },
      "execution_count": null,
      "outputs": []
    },
    {
      "cell_type": "markdown",
      "source": [
        "**What are the Top Countries?**"
      ],
      "metadata": {
        "id": "5TMVB-T9tJ9-"
      }
    },
    {
      "cell_type": "code",
      "source": [
        "# TV Shows\n",
        "categories1 = \", \".join(tv_show['country'].dropna()).split(\", \")\n",
        "counter_list1 = Counter(categories1).most_common()[::-1]\n",
        "labels1 = [_[0] for _ in counter_list1][::-1]\n",
        "values1 = [_[1] for _ in counter_list1][::-1]\n",
        "\n",
        "# Movies\n",
        "categories2 = \", \".join(movie['country'].dropna()).split(\", \")\n",
        "counter_list2 = Counter(categories2).most_common()[::-1]\n",
        "labels2 = [_[0] for _ in counter_list2][::-1]\n",
        "values2 = [_[1] for _ in counter_list2][::-1]\n",
        "\n",
        "# Create Dataframe\n",
        "country1 = pd.DataFrame(values1, labels1).reset_index()\n",
        "country1.columns = ['Country','TV Show']\n",
        "country2 = pd.DataFrame(values2, labels2).reset_index()\n",
        "country2.columns = ['Country','Movie']\n",
        "\n",
        "# Merge Dataframe\n",
        "country = country1.merge(country2, on='Country', how = 'outer')\n",
        "country['TV Show'] = country['TV Show'].fillna(0)\n",
        "country['Movie'] = country['Movie'].fillna(0)\n",
        "country['Total'] = country['TV Show'] + country['Movie']"
      ],
      "metadata": {
        "id": "_jkylcWlzj3L"
      },
      "execution_count": null,
      "outputs": []
    },
    {
      "cell_type": "markdown",
      "source": [
        "**Who are the Top Director?**"
      ],
      "metadata": {
        "id": "pbotEJ-_FrZc"
      }
    },
    {
      "cell_type": "code",
      "source": [
        "# TV Shows\n",
        "categories1 = \", \".join(tv_show['director'].dropna()).split(\", \")\n",
        "counter_list1 = Counter(categories1).most_common()[::-1]\n",
        "labels1 = [_[0] for _ in counter_list1][::-1]\n",
        "values1 = [_[1] for _ in counter_list1][::-1]\n",
        "\n",
        "# Movies\n",
        "categories2 = \", \".join(movie['director'].dropna()).split(\", \")\n",
        "counter_list2 = Counter(categories2).most_common()[::-1]\n",
        "labels2 = [_[0] for _ in counter_list2][::-1]\n",
        "values2 = [_[1] for _ in counter_list2][::-1]\n",
        "\n",
        "# Create Dataframe\n",
        "director1 = pd.DataFrame(values1, labels1).reset_index()\n",
        "director1.columns = ['Director','TV Show']\n",
        "director2 = pd.DataFrame(values2, labels2).reset_index()\n",
        "director2.columns = ['Director','Movie']\n",
        "\n",
        "# Merge Dataframe\n",
        "director = director1.merge(director2, on='Director', how = 'outer')\n",
        "director['TV Show'] = director['TV Show'].fillna(0)\n",
        "director['Movie'] = director['Movie'].fillna(0)\n",
        "director['Total'] = director['TV Show'] + director['Movie']\n",
        "director.drop(director[director['Director'] == ''].index, axis=0, inplace=True)\n",
        "director.drop(director[director['Director'] == '1'].index, axis=0, inplace=True)"
      ],
      "metadata": {
        "id": "K5fg8BNw0pf0"
      },
      "execution_count": null,
      "outputs": []
    },
    {
      "cell_type": "markdown",
      "source": [
        "**Who are the Top Actor?**"
      ],
      "metadata": {
        "id": "RXe6B6Y_F9hW"
      }
    },
    {
      "cell_type": "code",
      "source": [
        "# TV Shows\n",
        "categories1 = \", \".join(tv_show['cast'].dropna()).split(\", \")\n",
        "counter_list1 = Counter(categories1).most_common()[::-1]\n",
        "labels1 = [_[0] for _ in counter_list1][::-1]\n",
        "values1 = [_[1] for _ in counter_list1][::-1]\n",
        "\n",
        "# Movies\n",
        "categories2 = \", \".join(movie['cast'].dropna()).split(\", \")\n",
        "counter_list2 = Counter(categories2).most_common()[::-1]\n",
        "labels2 = [_[0] for _ in counter_list2][::-1]\n",
        "values2 = [_[1] for _ in counter_list2][::-1]\n",
        "\n",
        "# Create Dataframe\n",
        "actor1 = pd.DataFrame(values1, labels1).reset_index()\n",
        "actor1.columns = ['Actor','TV Show']\n",
        "actor2 = pd.DataFrame(values2, labels2).reset_index()\n",
        "actor2.columns = ['Actor','Movie']\n",
        "\n",
        "# Merge Dataframe\n",
        "actor = actor1.merge(actor2, on='Actor', how = 'outer')\n",
        "actor['TV Show'] = actor['TV Show'].fillna(0)\n",
        "actor['Movie'] = actor['Movie'].fillna(0)\n",
        "actor['Total'] = actor['TV Show'] + actor['Movie']\n",
        "actor.drop(actor[actor['Actor'] == '1'].index, axis=0, inplace=True)"
      ],
      "metadata": {
        "id": "q5c76ivZ29Y1"
      },
      "execution_count": null,
      "outputs": []
    },
    {
      "cell_type": "code",
      "source": [
        "genre.to_csv('/content/drive/MyDrive/Dataset/top_genre.csv')\n",
        "country.to_csv('/content/drive/MyDrive/Dataset/top_country.csv')\n",
        "director.to_csv('/content/drive/MyDrive/Dataset/top_director.csv')\n",
        "actor.to_csv('/content/drive/MyDrive/Dataset/top_actor.csv')"
      ],
      "metadata": {
        "id": "RJX3jMBxGHNS"
      },
      "execution_count": null,
      "outputs": []
    },
    {
      "cell_type": "code",
      "source": [],
      "metadata": {
        "id": "dEWSXcjmV162"
      },
      "execution_count": null,
      "outputs": []
    }
  ]
}